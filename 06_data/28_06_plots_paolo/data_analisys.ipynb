{
 "cells": [
  {
   "cell_type": "code",
   "execution_count": 1,
   "metadata": {},
   "outputs": [],
   "source": [
    "import pandas as pd\n",
    "import os\n",
    "import numpy as np\n",
    "import matplotlib.pyplot as plt\n",
    "import matplotlib.cm as cm\n",
    "plt.style.use('/Users/paolostornati/Phd/phdthesis.mpltstyle')\n",
    "niceblack=\"#262626\"\n",
    "from matplotlib.colors import ListedColormap\n",
    "from palettable.cartocolors.sequential import DarkMint_7\n",
    "import palettable\n",
    "cmap = ListedColormap(DarkMint_7.mpl_colors)\n",
    "colors_mint = cmap.colors\n"
   ]
  },
  {
   "cell_type": "code",
   "execution_count": 2,
   "metadata": {},
   "outputs": [
    {
     "name": "stderr",
     "output_type": "stream",
     "text": [
      "/Users/paolostornati/opt/anaconda3/lib/python3.7/site-packages/ipykernel_launcher.py:1: ParserWarning: Falling back to the 'python' engine because the 'c' engine does not support regex separators (separators > 1 char and different from '\\s+' are interpreted as regex); you can avoid this warning by specifying engine='python'.\n",
      "  \"\"\"Entry point for launching an IPython kernel.\n"
     ]
    }
   ],
   "source": [
    "df = pd.read_csv(r'./All_data.dat' , delimiter='  ', skip_blank_lines=True)"
   ]
  },
  {
   "cell_type": "code",
   "execution_count": 3,
   "metadata": {},
   "outputs": [
    {
     "data": {
      "text/html": [
       "<div>\n",
       "<style scoped>\n",
       "    .dataframe tbody tr th:only-of-type {\n",
       "        vertical-align: middle;\n",
       "    }\n",
       "\n",
       "    .dataframe tbody tr th {\n",
       "        vertical-align: top;\n",
       "    }\n",
       "\n",
       "    .dataframe thead th {\n",
       "        text-align: right;\n",
       "    }\n",
       "</style>\n",
       "<table border=\"1\" class=\"dataframe\">\n",
       "  <thead>\n",
       "    <tr style=\"text-align: right;\">\n",
       "      <th></th>\n",
       "      <th>Lx</th>\n",
       "      <th>lambda</th>\n",
       "      <th>mu_y</th>\n",
       "      <th>theta</th>\n",
       "      <th>bondD</th>\n",
       "      <th>Energy_GS</th>\n",
       "      <th>winding</th>\n",
       "      <th>eA</th>\n",
       "      <th>eB</th>\n",
       "      <th>MA</th>\n",
       "      <th>MB</th>\n",
       "      <th>U4</th>\n",
       "      <th>Oflip</th>\n",
       "      <th>Oflipp</th>\n",
       "      <th>charge</th>\n",
       "    </tr>\n",
       "  </thead>\n",
       "  <tbody>\n",
       "    <tr>\n",
       "      <th>0</th>\n",
       "      <td>10</td>\n",
       "      <td>-1.0</td>\n",
       "      <td>0.20</td>\n",
       "      <td>0.0</td>\n",
       "      <td>15</td>\n",
       "      <td>-25.738233</td>\n",
       "      <td>-5.113079</td>\n",
       "      <td>8.175913</td>\n",
       "      <td>8.175913</td>\n",
       "      <td>6.485783</td>\n",
       "      <td>6.485783</td>\n",
       "      <td>0.959230</td>\n",
       "      <td>16.351826</td>\n",
       "      <td>0.000000</td>\n",
       "      <td>0.0</td>\n",
       "    </tr>\n",
       "    <tr>\n",
       "      <th>1</th>\n",
       "      <td>10</td>\n",
       "      <td>-1.0</td>\n",
       "      <td>0.22</td>\n",
       "      <td>0.0</td>\n",
       "      <td>15</td>\n",
       "      <td>-25.738233</td>\n",
       "      <td>-5.113079</td>\n",
       "      <td>8.175913</td>\n",
       "      <td>8.175913</td>\n",
       "      <td>-6.485783</td>\n",
       "      <td>-6.485783</td>\n",
       "      <td>0.959230</td>\n",
       "      <td>16.351826</td>\n",
       "      <td>-0.000000</td>\n",
       "      <td>0.0</td>\n",
       "    </tr>\n",
       "    <tr>\n",
       "      <th>2</th>\n",
       "      <td>10</td>\n",
       "      <td>-1.0</td>\n",
       "      <td>0.24</td>\n",
       "      <td>0.0</td>\n",
       "      <td>15</td>\n",
       "      <td>-25.738233</td>\n",
       "      <td>-5.113079</td>\n",
       "      <td>8.175913</td>\n",
       "      <td>8.175913</td>\n",
       "      <td>-6.485783</td>\n",
       "      <td>-6.485783</td>\n",
       "      <td>0.959230</td>\n",
       "      <td>16.351826</td>\n",
       "      <td>-0.000000</td>\n",
       "      <td>-0.0</td>\n",
       "    </tr>\n",
       "    <tr>\n",
       "      <th>3</th>\n",
       "      <td>10</td>\n",
       "      <td>-1.0</td>\n",
       "      <td>0.26</td>\n",
       "      <td>0.0</td>\n",
       "      <td>15</td>\n",
       "      <td>-25.738233</td>\n",
       "      <td>-5.113079</td>\n",
       "      <td>8.175913</td>\n",
       "      <td>8.175913</td>\n",
       "      <td>6.485783</td>\n",
       "      <td>6.485783</td>\n",
       "      <td>0.959230</td>\n",
       "      <td>16.351826</td>\n",
       "      <td>-0.000000</td>\n",
       "      <td>-0.0</td>\n",
       "    </tr>\n",
       "    <tr>\n",
       "      <th>4</th>\n",
       "      <td>10</td>\n",
       "      <td>-1.0</td>\n",
       "      <td>0.28</td>\n",
       "      <td>0.0</td>\n",
       "      <td>15</td>\n",
       "      <td>-25.738233</td>\n",
       "      <td>-5.113079</td>\n",
       "      <td>8.175913</td>\n",
       "      <td>8.175913</td>\n",
       "      <td>6.485783</td>\n",
       "      <td>6.485783</td>\n",
       "      <td>0.959230</td>\n",
       "      <td>16.351826</td>\n",
       "      <td>-0.000000</td>\n",
       "      <td>0.0</td>\n",
       "    </tr>\n",
       "    <tr>\n",
       "      <th>...</th>\n",
       "      <td>...</td>\n",
       "      <td>...</td>\n",
       "      <td>...</td>\n",
       "      <td>...</td>\n",
       "      <td>...</td>\n",
       "      <td>...</td>\n",
       "      <td>...</td>\n",
       "      <td>...</td>\n",
       "      <td>...</td>\n",
       "      <td>...</td>\n",
       "      <td>...</td>\n",
       "      <td>...</td>\n",
       "      <td>...</td>\n",
       "      <td>...</td>\n",
       "      <td>...</td>\n",
       "    </tr>\n",
       "    <tr>\n",
       "      <th>367</th>\n",
       "      <td>8</td>\n",
       "      <td>-1.0</td>\n",
       "      <td>1.42</td>\n",
       "      <td>0.0</td>\n",
       "      <td>15</td>\n",
       "      <td>-27.726897</td>\n",
       "      <td>2.381663</td>\n",
       "      <td>2.870162</td>\n",
       "      <td>2.870162</td>\n",
       "      <td>-0.174098</td>\n",
       "      <td>0.174098</td>\n",
       "      <td>0.883863</td>\n",
       "      <td>5.740325</td>\n",
       "      <td>1.864583</td>\n",
       "      <td>-0.0</td>\n",
       "    </tr>\n",
       "    <tr>\n",
       "      <th>368</th>\n",
       "      <td>8</td>\n",
       "      <td>-1.0</td>\n",
       "      <td>1.44</td>\n",
       "      <td>0.0</td>\n",
       "      <td>15</td>\n",
       "      <td>-27.966897</td>\n",
       "      <td>2.381663</td>\n",
       "      <td>2.870162</td>\n",
       "      <td>2.870162</td>\n",
       "      <td>-0.174098</td>\n",
       "      <td>0.174098</td>\n",
       "      <td>0.883863</td>\n",
       "      <td>5.740325</td>\n",
       "      <td>1.864583</td>\n",
       "      <td>0.0</td>\n",
       "    </tr>\n",
       "    <tr>\n",
       "      <th>369</th>\n",
       "      <td>8</td>\n",
       "      <td>-1.0</td>\n",
       "      <td>1.46</td>\n",
       "      <td>0.0</td>\n",
       "      <td>15</td>\n",
       "      <td>-28.206897</td>\n",
       "      <td>2.381663</td>\n",
       "      <td>2.870162</td>\n",
       "      <td>2.870162</td>\n",
       "      <td>-0.174098</td>\n",
       "      <td>0.174098</td>\n",
       "      <td>0.883863</td>\n",
       "      <td>5.740325</td>\n",
       "      <td>1.864583</td>\n",
       "      <td>-0.0</td>\n",
       "    </tr>\n",
       "    <tr>\n",
       "      <th>370</th>\n",
       "      <td>8</td>\n",
       "      <td>-1.0</td>\n",
       "      <td>1.48</td>\n",
       "      <td>0.0</td>\n",
       "      <td>15</td>\n",
       "      <td>-28.446897</td>\n",
       "      <td>2.381663</td>\n",
       "      <td>2.870162</td>\n",
       "      <td>2.870162</td>\n",
       "      <td>-0.174098</td>\n",
       "      <td>0.174098</td>\n",
       "      <td>0.883863</td>\n",
       "      <td>5.740325</td>\n",
       "      <td>1.864583</td>\n",
       "      <td>0.0</td>\n",
       "    </tr>\n",
       "    <tr>\n",
       "      <th>371</th>\n",
       "      <td>8</td>\n",
       "      <td>-1.0</td>\n",
       "      <td>1.50</td>\n",
       "      <td>0.0</td>\n",
       "      <td>15</td>\n",
       "      <td>-28.686897</td>\n",
       "      <td>2.381663</td>\n",
       "      <td>2.870162</td>\n",
       "      <td>2.870162</td>\n",
       "      <td>0.174098</td>\n",
       "      <td>-0.174098</td>\n",
       "      <td>0.883863</td>\n",
       "      <td>5.740325</td>\n",
       "      <td>-1.864583</td>\n",
       "      <td>0.0</td>\n",
       "    </tr>\n",
       "  </tbody>\n",
       "</table>\n",
       "<p>372 rows × 15 columns</p>\n",
       "</div>"
      ],
      "text/plain": [
       "     Lx  lambda  mu_y  theta  bondD  Energy_GS   winding        eA        eB  \\\n",
       "0    10    -1.0  0.20    0.0     15 -25.738233 -5.113079  8.175913  8.175913   \n",
       "1    10    -1.0  0.22    0.0     15 -25.738233 -5.113079  8.175913  8.175913   \n",
       "2    10    -1.0  0.24    0.0     15 -25.738233 -5.113079  8.175913  8.175913   \n",
       "3    10    -1.0  0.26    0.0     15 -25.738233 -5.113079  8.175913  8.175913   \n",
       "4    10    -1.0  0.28    0.0     15 -25.738233 -5.113079  8.175913  8.175913   \n",
       "..   ..     ...   ...    ...    ...        ...       ...       ...       ...   \n",
       "367   8    -1.0  1.42    0.0     15 -27.726897  2.381663  2.870162  2.870162   \n",
       "368   8    -1.0  1.44    0.0     15 -27.966897  2.381663  2.870162  2.870162   \n",
       "369   8    -1.0  1.46    0.0     15 -28.206897  2.381663  2.870162  2.870162   \n",
       "370   8    -1.0  1.48    0.0     15 -28.446897  2.381663  2.870162  2.870162   \n",
       "371   8    -1.0  1.50    0.0     15 -28.686897  2.381663  2.870162  2.870162   \n",
       "\n",
       "           MA        MB        U4      Oflip    Oflipp  charge  \n",
       "0    6.485783  6.485783  0.959230  16.351826  0.000000     0.0  \n",
       "1   -6.485783 -6.485783  0.959230  16.351826 -0.000000     0.0  \n",
       "2   -6.485783 -6.485783  0.959230  16.351826 -0.000000    -0.0  \n",
       "3    6.485783  6.485783  0.959230  16.351826 -0.000000    -0.0  \n",
       "4    6.485783  6.485783  0.959230  16.351826 -0.000000     0.0  \n",
       "..        ...       ...       ...        ...       ...     ...  \n",
       "367 -0.174098  0.174098  0.883863   5.740325  1.864583    -0.0  \n",
       "368 -0.174098  0.174098  0.883863   5.740325  1.864583     0.0  \n",
       "369 -0.174098  0.174098  0.883863   5.740325  1.864583    -0.0  \n",
       "370 -0.174098  0.174098  0.883863   5.740325  1.864583     0.0  \n",
       "371  0.174098 -0.174098  0.883863   5.740325 -1.864583     0.0  \n",
       "\n",
       "[372 rows x 15 columns]"
      ]
     },
     "execution_count": 3,
     "metadata": {},
     "output_type": "execute_result"
    }
   ],
   "source": [
    "df"
   ]
  },
  {
   "cell_type": "code",
   "execution_count": 4,
   "metadata": {},
   "outputs": [
    {
     "data": {
      "text/html": [
       "<div>\n",
       "<style scoped>\n",
       "    .dataframe tbody tr th:only-of-type {\n",
       "        vertical-align: middle;\n",
       "    }\n",
       "\n",
       "    .dataframe tbody tr th {\n",
       "        vertical-align: top;\n",
       "    }\n",
       "\n",
       "    .dataframe thead th {\n",
       "        text-align: right;\n",
       "    }\n",
       "</style>\n",
       "<table border=\"1\" class=\"dataframe\">\n",
       "  <thead>\n",
       "    <tr style=\"text-align: right;\">\n",
       "      <th></th>\n",
       "      <th>Lx</th>\n",
       "      <th>lambda</th>\n",
       "      <th>mu_y</th>\n",
       "      <th>theta</th>\n",
       "      <th>bondD</th>\n",
       "      <th>Energy_GS</th>\n",
       "      <th>winding</th>\n",
       "      <th>eA</th>\n",
       "      <th>eB</th>\n",
       "      <th>MA</th>\n",
       "      <th>MB</th>\n",
       "      <th>U4</th>\n",
       "      <th>Oflip</th>\n",
       "      <th>Oflipp</th>\n",
       "      <th>charge</th>\n",
       "    </tr>\n",
       "  </thead>\n",
       "  <tbody>\n",
       "    <tr>\n",
       "      <th>237</th>\n",
       "      <td>3</td>\n",
       "      <td>-1.0</td>\n",
       "      <td>0.96</td>\n",
       "      <td>0.0</td>\n",
       "      <td>15</td>\n",
       "      <td>-9.695773</td>\n",
       "      <td>-0.063455</td>\n",
       "      <td>1.642629</td>\n",
       "      <td>1.642629</td>\n",
       "      <td>-0.833105</td>\n",
       "      <td>-0.833105</td>\n",
       "      <td>0.797073</td>\n",
       "      <td>3.285258</td>\n",
       "      <td>0.000000</td>\n",
       "      <td>0.0</td>\n",
       "    </tr>\n",
       "    <tr>\n",
       "      <th>226</th>\n",
       "      <td>3</td>\n",
       "      <td>-1.0</td>\n",
       "      <td>0.74</td>\n",
       "      <td>0.0</td>\n",
       "      <td>15</td>\n",
       "      <td>-8.815773</td>\n",
       "      <td>-0.063455</td>\n",
       "      <td>1.642629</td>\n",
       "      <td>1.642629</td>\n",
       "      <td>0.833105</td>\n",
       "      <td>0.833105</td>\n",
       "      <td>0.797073</td>\n",
       "      <td>3.285258</td>\n",
       "      <td>-0.000000</td>\n",
       "      <td>0.0</td>\n",
       "    </tr>\n",
       "    <tr>\n",
       "      <th>227</th>\n",
       "      <td>3</td>\n",
       "      <td>-1.0</td>\n",
       "      <td>0.76</td>\n",
       "      <td>0.0</td>\n",
       "      <td>15</td>\n",
       "      <td>-8.895773</td>\n",
       "      <td>-0.063455</td>\n",
       "      <td>1.642629</td>\n",
       "      <td>1.642629</td>\n",
       "      <td>0.833105</td>\n",
       "      <td>0.833105</td>\n",
       "      <td>0.797073</td>\n",
       "      <td>3.285258</td>\n",
       "      <td>0.000000</td>\n",
       "      <td>0.0</td>\n",
       "    </tr>\n",
       "    <tr>\n",
       "      <th>228</th>\n",
       "      <td>3</td>\n",
       "      <td>-1.0</td>\n",
       "      <td>0.78</td>\n",
       "      <td>0.0</td>\n",
       "      <td>15</td>\n",
       "      <td>-8.975773</td>\n",
       "      <td>-0.063455</td>\n",
       "      <td>1.642629</td>\n",
       "      <td>1.642629</td>\n",
       "      <td>-0.833105</td>\n",
       "      <td>-0.833105</td>\n",
       "      <td>0.797073</td>\n",
       "      <td>3.285258</td>\n",
       "      <td>0.000000</td>\n",
       "      <td>0.0</td>\n",
       "    </tr>\n",
       "    <tr>\n",
       "      <th>230</th>\n",
       "      <td>3</td>\n",
       "      <td>-1.0</td>\n",
       "      <td>0.82</td>\n",
       "      <td>0.0</td>\n",
       "      <td>15</td>\n",
       "      <td>-9.135773</td>\n",
       "      <td>-0.063455</td>\n",
       "      <td>1.642629</td>\n",
       "      <td>1.642629</td>\n",
       "      <td>0.833105</td>\n",
       "      <td>0.833105</td>\n",
       "      <td>0.797073</td>\n",
       "      <td>3.285258</td>\n",
       "      <td>-0.000000</td>\n",
       "      <td>0.0</td>\n",
       "    </tr>\n",
       "    <tr>\n",
       "      <th>...</th>\n",
       "      <td>...</td>\n",
       "      <td>...</td>\n",
       "      <td>...</td>\n",
       "      <td>...</td>\n",
       "      <td>...</td>\n",
       "      <td>...</td>\n",
       "      <td>...</td>\n",
       "      <td>...</td>\n",
       "      <td>...</td>\n",
       "      <td>...</td>\n",
       "      <td>...</td>\n",
       "      <td>...</td>\n",
       "      <td>...</td>\n",
       "      <td>...</td>\n",
       "      <td>...</td>\n",
       "    </tr>\n",
       "    <tr>\n",
       "      <th>159</th>\n",
       "      <td>16</td>\n",
       "      <td>-1.0</td>\n",
       "      <td>0.74</td>\n",
       "      <td>0.0</td>\n",
       "      <td>40</td>\n",
       "      <td>-43.454973</td>\n",
       "      <td>-4.251047</td>\n",
       "      <td>10.998814</td>\n",
       "      <td>10.998814</td>\n",
       "      <td>1.428355</td>\n",
       "      <td>-1.428355</td>\n",
       "      <td>0.969694</td>\n",
       "      <td>21.997628</td>\n",
       "      <td>-1.057350</td>\n",
       "      <td>-0.0</td>\n",
       "    </tr>\n",
       "    <tr>\n",
       "      <th>160</th>\n",
       "      <td>16</td>\n",
       "      <td>-1.0</td>\n",
       "      <td>0.76</td>\n",
       "      <td>0.0</td>\n",
       "      <td>40</td>\n",
       "      <td>-43.653797</td>\n",
       "      <td>-3.281180</td>\n",
       "      <td>10.056547</td>\n",
       "      <td>10.778370</td>\n",
       "      <td>0.000000</td>\n",
       "      <td>-0.000000</td>\n",
       "      <td>0.966854</td>\n",
       "      <td>20.834917</td>\n",
       "      <td>-0.000000</td>\n",
       "      <td>0.0</td>\n",
       "    </tr>\n",
       "    <tr>\n",
       "      <th>161</th>\n",
       "      <td>16</td>\n",
       "      <td>-1.0</td>\n",
       "      <td>0.78</td>\n",
       "      <td>0.0</td>\n",
       "      <td>40</td>\n",
       "      <td>-43.853797</td>\n",
       "      <td>-3.281180</td>\n",
       "      <td>10.056547</td>\n",
       "      <td>10.778370</td>\n",
       "      <td>0.000000</td>\n",
       "      <td>-0.000000</td>\n",
       "      <td>0.966854</td>\n",
       "      <td>20.834917</td>\n",
       "      <td>-0.000000</td>\n",
       "      <td>0.0</td>\n",
       "    </tr>\n",
       "    <tr>\n",
       "      <th>163</th>\n",
       "      <td>16</td>\n",
       "      <td>-1.0</td>\n",
       "      <td>0.82</td>\n",
       "      <td>0.0</td>\n",
       "      <td>40</td>\n",
       "      <td>-44.253797</td>\n",
       "      <td>-3.281180</td>\n",
       "      <td>10.056547</td>\n",
       "      <td>10.778370</td>\n",
       "      <td>-0.000000</td>\n",
       "      <td>0.000000</td>\n",
       "      <td>0.966854</td>\n",
       "      <td>20.834917</td>\n",
       "      <td>-0.000000</td>\n",
       "      <td>-0.0</td>\n",
       "    </tr>\n",
       "    <tr>\n",
       "      <th>185</th>\n",
       "      <td>16</td>\n",
       "      <td>-1.0</td>\n",
       "      <td>1.26</td>\n",
       "      <td>0.0</td>\n",
       "      <td>40</td>\n",
       "      <td>-50.159883</td>\n",
       "      <td>0.193525</td>\n",
       "      <td>8.325063</td>\n",
       "      <td>8.325063</td>\n",
       "      <td>-0.493547</td>\n",
       "      <td>0.493547</td>\n",
       "      <td>0.959960</td>\n",
       "      <td>16.650127</td>\n",
       "      <td>1.670609</td>\n",
       "      <td>0.0</td>\n",
       "    </tr>\n",
       "  </tbody>\n",
       "</table>\n",
       "<p>372 rows × 15 columns</p>\n",
       "</div>"
      ],
      "text/plain": [
       "     Lx  lambda  mu_y  theta  bondD  Energy_GS   winding         eA  \\\n",
       "237   3    -1.0  0.96    0.0     15  -9.695773 -0.063455   1.642629   \n",
       "226   3    -1.0  0.74    0.0     15  -8.815773 -0.063455   1.642629   \n",
       "227   3    -1.0  0.76    0.0     15  -8.895773 -0.063455   1.642629   \n",
       "228   3    -1.0  0.78    0.0     15  -8.975773 -0.063455   1.642629   \n",
       "230   3    -1.0  0.82    0.0     15  -9.135773 -0.063455   1.642629   \n",
       "..   ..     ...   ...    ...    ...        ...       ...        ...   \n",
       "159  16    -1.0  0.74    0.0     40 -43.454973 -4.251047  10.998814   \n",
       "160  16    -1.0  0.76    0.0     40 -43.653797 -3.281180  10.056547   \n",
       "161  16    -1.0  0.78    0.0     40 -43.853797 -3.281180  10.056547   \n",
       "163  16    -1.0  0.82    0.0     40 -44.253797 -3.281180  10.056547   \n",
       "185  16    -1.0  1.26    0.0     40 -50.159883  0.193525   8.325063   \n",
       "\n",
       "            eB        MA        MB        U4      Oflip    Oflipp  charge  \n",
       "237   1.642629 -0.833105 -0.833105  0.797073   3.285258  0.000000     0.0  \n",
       "226   1.642629  0.833105  0.833105  0.797073   3.285258 -0.000000     0.0  \n",
       "227   1.642629  0.833105  0.833105  0.797073   3.285258  0.000000     0.0  \n",
       "228   1.642629 -0.833105 -0.833105  0.797073   3.285258  0.000000     0.0  \n",
       "230   1.642629  0.833105  0.833105  0.797073   3.285258 -0.000000     0.0  \n",
       "..         ...       ...       ...       ...        ...       ...     ...  \n",
       "159  10.998814  1.428355 -1.428355  0.969694  21.997628 -1.057350    -0.0  \n",
       "160  10.778370  0.000000 -0.000000  0.966854  20.834917 -0.000000     0.0  \n",
       "161  10.778370  0.000000 -0.000000  0.966854  20.834917 -0.000000     0.0  \n",
       "163  10.778370 -0.000000  0.000000  0.966854  20.834917 -0.000000    -0.0  \n",
       "185   8.325063 -0.493547  0.493547  0.959960  16.650127  1.670609     0.0  \n",
       "\n",
       "[372 rows x 15 columns]"
      ]
     },
     "execution_count": 4,
     "metadata": {},
     "output_type": "execute_result"
    }
   ],
   "source": [
    "df.sort_values(by=['Lx'])"
   ]
  },
  {
   "cell_type": "code",
   "execution_count": 5,
   "metadata": {},
   "outputs": [
    {
     "data": {
      "text/plain": [
       "0      10\n",
       "1      10\n",
       "2      10\n",
       "3      10\n",
       "4      10\n",
       "       ..\n",
       "367     8\n",
       "368     8\n",
       "369     8\n",
       "370     8\n",
       "371     8\n",
       "Name: Lx, Length: 372, dtype: int64"
      ]
     },
     "execution_count": 5,
     "metadata": {},
     "output_type": "execute_result"
    }
   ],
   "source": [
    "df.Lx"
   ]
  },
  {
   "cell_type": "code",
   "execution_count": 6,
   "metadata": {},
   "outputs": [],
   "source": [
    "#plt.plot(df.Lx)"
   ]
  },
  {
   "cell_type": "code",
   "execution_count": 7,
   "metadata": {},
   "outputs": [
    {
     "data": {
      "text/plain": [
       "pandas.core.series.Series"
      ]
     },
     "execution_count": 7,
     "metadata": {},
     "output_type": "execute_result"
    }
   ],
   "source": [
    "type(df.Lx)"
   ]
  },
  {
   "cell_type": "code",
   "execution_count": 8,
   "metadata": {},
   "outputs": [
    {
     "data": {
      "text/plain": [
       "<matplotlib.legend.Legend at 0x7f81a00fc490>"
      ]
     },
     "execution_count": 8,
     "metadata": {},
     "output_type": "execute_result"
    },
    {
     "data": {
      "image/png": "[encoded data removed]",
      "text/plain": [
       "<Figure size 720x447.25 with 1 Axes>"
      ]
     },
     "metadata": {
      "needs_background": "light"
     },
     "output_type": "display_data"
    }
   ],
   "source": [
    "plt.plot(df[(df['Lx']==16)]['mu_y'], df[(df['Lx']==16)]['winding'], lw=0,marker='o', label= 'Lx=16 Winding')\n",
    "plt.plot(df[(df['Lx']==12)]['mu_y'], df[(df['Lx']==12)]['winding'], lw=0,marker='o', label= 'Lx=12 Winding')\n",
    "plt.plot(df[(df['Lx']==8)]['mu_y'], df[(df['Lx']==8)]['winding'], lw=0,marker='o', label= 'Lx=8 Winding')\n",
    "plt.grid()\n",
    "plt.legend()"
   ]
  },
  {
   "cell_type": "code",
   "execution_count": 9,
   "metadata": {},
   "outputs": [
    {
     "data": {
      "text/plain": [
       "<matplotlib.legend.Legend at 0x7f81a0714a50>"
      ]
     },
     "execution_count": 9,
     "metadata": {},
     "output_type": "execute_result"
    },
    {
     "data": {
      "image/png": "[encoded data removed]",
      "text/plain": [
       "<Figure size 720x447.25 with 1 Axes>"
      ]
     },
     "metadata": {
      "needs_background": "light"
     },
     "output_type": "display_data"
    }
   ],
   "source": [
    "plt.plot(df[(df['Lx']==16)]['mu_y'], df[(df['Lx']==16)]['eA']+df[(df['Lx']==16)]['eB'], lw=0,marker='o', label= 'Lx=16 Ea + Eb' )    \n",
    "plt.plot(df[(df['Lx']==12)]['mu_y'],  df[(df['Lx']==12)]['eA']+df[(df['Lx']==12)]['eB'], lw=0,marker='o', label= 'Lx=12 Ea + Eb' ) \n",
    "plt.plot(df[(df['Lx']==8)]['mu_y'], df[(df['Lx']==8)]['eA']+df[(df['Lx']==8)]['eB'], lw=0,marker='o', label= 'Lx=8 Ea + Eb' ) \n",
    "plt.grid()\n",
    "plt.legend()"
   ]
  },
  {
   "cell_type": "code",
   "execution_count": 10,
   "metadata": {},
   "outputs": [
    {
     "data": {
      "text/plain": [
       "<matplotlib.legend.Legend at 0x7f81a03bb190>"
      ]
     },
     "execution_count": 10,
     "metadata": {},
     "output_type": "execute_result"
    },
    {
     "data": {
      "image/png": "[encoded data removed]",
      "text/plain": [
       "<Figure size 720x447.25 with 1 Axes>"
      ]
     },
     "metadata": {
      "needs_background": "light"
     },
     "output_type": "display_data"
    }
   ],
   "source": [
    "plt.plot(df[(df['Lx']==16)]['mu_y'], df[(df['Lx']==16)]['Oflipp'], lw=0,marker='o', label = 'Oflipp')\n",
    "plt.plot(df[(df['Lx']==16)]['mu_y'], df[(df['Lx']==16)]['winding'], lw=0,marker='o', label = 'winding')\n",
    "plt.grid()\n",
    "plt.legend()\n",
    "#np.diff(df[(df['Lx']==16)]['winding'])\n",
    "\n",
    "#plt.plot(df[(df['Lx']==12)]['mu_y'], df[(df['Lx']==12)]['Oflipp'], lw=0,marker='o')\n",
    "#plt.plot(df[(df['Lx']==8)]['mu_y'], df[(df['Lx']==8)]['Oflipp'], lw=0,marker='o')"
   ]
  },
  {
   "cell_type": "code",
   "execution_count": 11,
   "metadata": {},
   "outputs": [
    {
     "data": {
      "text/plain": [
       "<matplotlib.legend.Legend at 0x7f81a0d42250>"
      ]
     },
     "execution_count": 11,
     "metadata": {},
     "output_type": "execute_result"
    },
    {
     "data": {
      "image/png": "[encoded data removed]",
      "text/plain": [
       "<Figure size 720x447.25 with 1 Axes>"
      ]
     },
     "metadata": {
      "needs_background": "light"
     },
     "output_type": "display_data"
    }
   ],
   "source": [
    "plt.plot(df[(df['Lx']==16)]['mu_y'], df[(df['Lx']==16)]['Energy_GS']/16, lw=0,marker='o', label= 'Lx=16 Energy_GS')\n",
    "plt.plot(df[(df['Lx']==12)]['mu_y'], df[(df['Lx']==12)]['Energy_GS']/12, lw=0,marker='o', label= 'Lx=12 Energy_GS')\n",
    "plt.plot(df[(df['Lx']==8)]['mu_y'], df[(df['Lx']==8)]['Energy_GS']/8, lw=0,marker='o', label= 'Lx=8 Energy_GS')\n",
    "plt.grid()\n",
    "plt.legend()"
   ]
  },
  {
   "cell_type": "code",
   "execution_count": 12,
   "metadata": {},
   "outputs": [
    {
     "data": {
      "text/plain": [
       "<matplotlib.legend.Legend at 0x7f81a1bce810>"
      ]
     },
     "execution_count": 12,
     "metadata": {},
     "output_type": "execute_result"
    },
    {
     "data": {
      "image/png": "[encoded data removed]",
      "text/plain": [
       "<Figure size 720x447.25 with 1 Axes>"
      ]
     },
     "metadata": {
      "needs_background": "light"
     },
     "output_type": "display_data"
    }
   ],
   "source": [
    "plt.plot(df[(df['Lx']==16)]['mu_y'], df[(df['Lx']==16)]['eA']+df[(df['Lx']==16)]['eB'], lw=0,marker='o', label= 'Lx=16 Ea + Eb' )    \n",
    "plt.plot(df[(df['Lx']==16)]['mu_y'], df[(df['Lx']==16)]['winding'], lw=0,marker='o', label= 'Lx=16 Winding')\n",
    "\n",
    "plt.plot(df[(df['Lx']==16)]['mu_y'], df[(df['Lx']==16)]['eA']+df[(df['Lx']==16)]['eB']+df[(df['Lx']==16)]['winding'], lw=0,marker='o', label= 'Lx=16 Ea + Eb' )    \n",
    "\n",
    "\n",
    "plt.grid()\n",
    "plt.legend()\n"
   ]
  },
  {
   "cell_type": "code",
   "execution_count": 13,
   "metadata": {
    "scrolled": false
   },
   "outputs": [
    {
     "data": {
      "text/plain": [
       "<matplotlib.legend.Legend at 0x7f81a1e5cad0>"
      ]
     },
     "execution_count": 13,
     "metadata": {},
     "output_type": "execute_result"
    },
    {
     "data": {
      "image/png": "[encoded data removed]",
      "text/plain": [
       "<Figure size 720x447.25 with 1 Axes>"
      ]
     },
     "metadata": {
      "needs_background": "light"
     },
     "output_type": "display_data"
    }
   ],
   "source": [
    "differences_16= list(np.diff(df[(df['Lx']==16)]['winding']))\n",
    "differences_16.append(0)\n",
    "\n",
    "differences_12= list(np.diff(df[(df['Lx']==12)]['winding']))\n",
    "differences_12.append(0)\n",
    "\n",
    "differences_8= list(np.diff(df[(df['Lx']==8)]['winding']))\n",
    "differences_8.append(0)\n",
    "\n",
    "plt.plot(df[(df['Lx']==16)]['mu_y'], differences_16/df[(df['Lx']==16)]['mu_y'], lw=0,marker='o', label = 'Differences in winding (Lx=16)')\n",
    "#plt.plot(df[(df['Lx']==12)]['mu_y'], differences_12/df[(df['Lx']==12)]['mu_y'], lw=0,marker='o', label = 'Differences in winding (Lx=12)')\n",
    "#plt.plot(df[(df['Lx']==12)]['mu_y'], differences_8/df[(df['Lx']==8)]['mu_y'], lw=0,marker='o', label = 'Differences in winding (Lx=8)')\n",
    "\n",
    "#plt.plot(df[(df['Lx']==16)]['mu_y'], differences, lw=0,marker='o', label = 'Differences in winding (Lx=16)')\n",
    "#plt.plot(df[(df['Lx']==12)]['mu_y'], differences_12, lw=0,marker='o', label = 'Differences in winding (Lx=12)')\n",
    "#plt.plot(df[(df['Lx']==12)]['mu_y'], differences_8, lw=0,marker='o', label = 'Differences in winding (Lx=8)')\n",
    "\n",
    "\n",
    "\n",
    "#plt.plot(df[(df['Lx']==16)]['mu_y'], df[(df['Lx']==16)]['winding'], lw=0,marker='o', label = 'winding')\n",
    "plt.grid()\n",
    "plt.legend()\n"
   ]
  },
  {
   "cell_type": "code",
   "execution_count": 14,
   "metadata": {},
   "outputs": [
    {
     "data": {
      "text/plain": [
       "132    0.20\n",
       "133    0.22\n",
       "134    0.24\n",
       "135    0.26\n",
       "136    0.28\n",
       "       ... \n",
       "193    1.42\n",
       "194    1.44\n",
       "195    1.46\n",
       "196    1.48\n",
       "197    1.50\n",
       "Name: mu_y, Length: 66, dtype: float64"
      ]
     },
     "execution_count": 14,
     "metadata": {},
     "output_type": "execute_result"
    }
   ],
   "source": [
    "#df_new= pd.DataFrame(df[(df['Lx']==16)]['mu_y'],differences_16)\n",
    "df[(df['Lx']==16)]['mu_y']"
   ]
  },
  {
   "cell_type": "code",
   "execution_count": 47,
   "metadata": {},
   "outputs": [],
   "source": [
    "differences_16 = np.array(differences_16)\n",
    "mask = differences_16>0"
   ]
  },
  {
   "cell_type": "code",
   "execution_count": 50,
   "metadata": {},
   "outputs": [],
   "source": [
    "x = np.array(df[(df['Lx']==16)]['mu_y'])"
   ]
  },
  {
   "cell_type": "code",
   "execution_count": 76,
   "metadata": {},
   "outputs": [],
   "source": [
    "def funzione (x,a,b):\n",
    "    return a + b *1/(x*x)\n",
    "    \n",
    "import scipy.optimize as optimization"
   ]
  },
  {
   "cell_type": "code",
   "execution_count": 77,
   "metadata": {},
   "outputs": [],
   "source": [
    "fit_result=optimization.curve_fit(funzione, x[mask], differences_16[mask]/x[mask])\n",
    "a,b=fit_result[0][0],fit_result[0][1]"
   ]
  },
  {
   "cell_type": "code",
   "execution_count": 75,
   "metadata": {},
   "outputs": [
    {
     "data": {
      "text/plain": [
       "[<matplotlib.lines.Line2D at 0x7f9f64971250>]"
      ]
     },
     "execution_count": 75,
     "metadata": {},
     "output_type": "execute_result"
    },
    {
     "data": {
      "image/png": "[encoded data removed]",
      "text/plain": [
       "<Figure size 720x447.25 with 1 Axes>"
      ]
     },
     "metadata": {
      "needs_background": "light"
     },
     "output_type": "display_data"
    }
   ],
   "source": [
    "\n",
    "plt.plot(x[mask], differences_16[mask]/x[mask],'o')\n",
    "plt.plot(x[mask], funzione(x[mask],a,b),'o')\n",
    "\n",
    "\n",
    "\n",
    "\n",
    "    "
   ]
  },
  {
   "cell_type": "code",
   "execution_count": null,
   "metadata": {},
   "outputs": [],
   "source": []
  }
 ],
 "metadata": {
  "kernelspec": {
   "display_name": "Python 3",
   "language": "python",
   "name": "python3"
  },
  "language_info": {
   "codemirror_mode": {
    "name": "ipython",
    "version": 3
   },
   "file_extension": ".py",
   "mimetype": "text/x-python",
   "name": "python",
   "nbconvert_exporter": "python",
   "pygments_lexer": "ipython3",
   "version": "3.7.6"
  }
 },
 "nbformat": 4,
 "nbformat_minor": 4
}
