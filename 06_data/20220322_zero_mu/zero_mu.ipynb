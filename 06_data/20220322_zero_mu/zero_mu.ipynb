{
 "cells": [
  {
   "cell_type": "code",
   "execution_count": 2,
   "metadata": {},
   "outputs": [],
   "source": [
    "import pandas as pd\n",
    "import os\n",
    "import numpy as np\n",
    "import matplotlib.pyplot as plt\n",
    "import matplotlib.cm as cm\n",
    "#plt.style.use('/Users/paolostornati/Phd/phdthesis.mpltstyle')\n",
    "niceblack=\"#262626\"\n",
    "from matplotlib.colors import ListedColormap\n",
    "#from palettable.cartocolors.sequential import DarkMint_7\n",
    "#import palettable\n",
    "#cmap = ListedColormap(DarkMint_7.mpl_colors)\n",
    "#colors_mint = cmap.colors\n"
   ]
  },
  {
   "cell_type": "code",
   "execution_count": 33,
   "metadata": {},
   "outputs": [
    {
     "name": "stderr",
     "output_type": "stream",
     "text": [
      "/home/pkrah/Software/miniconda3/envs/sPOD/lib/python3.9/site-packages/pandas/util/_decorators.py:311: ParserWarning: Falling back to the 'python' engine because the 'c' engine does not support regex separators (separators > 1 char and different from '\\s+' are interpreted as regex); you can avoid this warning by specifying engine='python'.\n",
      "  return func(*args, **kwargs)\n"
     ]
    }
   ],
   "source": []
  },
  {
   "cell_type": "code",
   "execution_count": 31,
   "metadata": {},
   "outputs": [],
   "source": [
    "def filter_max_bondD(df):\n",
    "    df = df.sort_values(by=['bondD'], ascending=False)\n",
    "    df = df.reset_index()  # make sure indexes pair with number of rows\n",
    "    data = []\n",
    "    matching_attributes = [\"Lx\",\"lambda\",\"mu_y\",\"theta\"]\n",
    "    for index, row in df.iterrows():\n",
    "        row_is_in_data=False\n",
    "        for d in data:\n",
    "            count = 0\n",
    "            for key in matching_attributes:\n",
    "                #print(key,d[key],row[key])\n",
    "                if d[key]==row[key]:\n",
    "                    count +=1\n",
    "                else:\n",
    "                    break\n",
    "\n",
    "            #print(\" \")\n",
    "            if count == len(matching_attributes):\n",
    "                row_is_in_data=True\n",
    "                break\n",
    "\n",
    "        if not row_is_in_data:\n",
    "            data.append(row)\n",
    "    return data"
   ]
  },
  {
   "cell_type": "code",
   "execution_count": 46,
   "metadata": {},
   "outputs": [
    {
     "name": "stderr",
     "output_type": "stream",
     "text": [
      "/home/pkrah/Software/miniconda3/envs/sPOD/lib/python3.9/site-packages/pandas/util/_decorators.py:311: ParserWarning: Falling back to the 'python' engine because the 'c' engine does not support regex separators (separators > 1 char and different from '\\s+' are interpreted as regex); you can avoid this warning by specifying engine='python'.\n",
      "  return func(*args, **kwargs)\n"
     ]
    },
    {
     "data": {
      "text/html": [
       "<div>\n",
       "<style scoped>\n",
       "    .dataframe tbody tr th:only-of-type {\n",
       "        vertical-align: middle;\n",
       "    }\n",
       "\n",
       "    .dataframe tbody tr th {\n",
       "        vertical-align: top;\n",
       "    }\n",
       "\n",
       "    .dataframe thead th {\n",
       "        text-align: right;\n",
       "    }\n",
       "</style>\n",
       "<table border=\"1\" class=\"dataframe\">\n",
       "  <thead>\n",
       "    <tr style=\"text-align: right;\">\n",
       "      <th></th>\n",
       "      <th>Lx</th>\n",
       "      <th>lambda</th>\n",
       "      <th>mu_y</th>\n",
       "      <th>theta</th>\n",
       "      <th>bondD</th>\n",
       "      <th>Energy_GS</th>\n",
       "      <th>winding</th>\n",
       "      <th>eA</th>\n",
       "      <th>eB</th>\n",
       "      <th>MA</th>\n",
       "      <th>MB</th>\n",
       "      <th>U4</th>\n",
       "      <th>Oflip</th>\n",
       "      <th>Oflipp</th>\n",
       "      <th>charge</th>\n",
       "    </tr>\n",
       "  </thead>\n",
       "  <tbody>\n",
       "    <tr>\n",
       "      <th>1</th>\n",
       "      <td>31.0</td>\n",
       "      <td>-0.28</td>\n",
       "      <td>0.0</td>\n",
       "      <td>0.0</td>\n",
       "      <td>160.0</td>\n",
       "      <td>-45.789549</td>\n",
       "      <td>-4.158900</td>\n",
       "      <td>20.624715</td>\n",
       "      <td>20.624715</td>\n",
       "      <td>-6.114780</td>\n",
       "      <td>-6.114780</td>\n",
       "      <td>0.983838</td>\n",
       "      <td>41.249429</td>\n",
       "      <td>-0.0</td>\n",
       "      <td>-0.0</td>\n",
       "    </tr>\n",
       "    <tr>\n",
       "      <th>2</th>\n",
       "      <td>31.0</td>\n",
       "      <td>-0.07</td>\n",
       "      <td>0.0</td>\n",
       "      <td>0.0</td>\n",
       "      <td>160.0</td>\n",
       "      <td>-37.727336</td>\n",
       "      <td>-1.796928</td>\n",
       "      <td>19.715229</td>\n",
       "      <td>19.715229</td>\n",
       "      <td>3.854523</td>\n",
       "      <td>3.854523</td>\n",
       "      <td>0.983093</td>\n",
       "      <td>39.430459</td>\n",
       "      <td>-0.0</td>\n",
       "      <td>0.0</td>\n",
       "    </tr>\n",
       "    <tr>\n",
       "      <th>3</th>\n",
       "      <td>31.0</td>\n",
       "      <td>-0.33</td>\n",
       "      <td>0.0</td>\n",
       "      <td>0.0</td>\n",
       "      <td>160.0</td>\n",
       "      <td>-47.864846</td>\n",
       "      <td>-4.825764</td>\n",
       "      <td>20.883823</td>\n",
       "      <td>20.883823</td>\n",
       "      <td>6.906000</td>\n",
       "      <td>6.906000</td>\n",
       "      <td>0.984039</td>\n",
       "      <td>41.767647</td>\n",
       "      <td>0.0</td>\n",
       "      <td>0.0</td>\n",
       "    </tr>\n",
       "    <tr>\n",
       "      <th>5</th>\n",
       "      <td>31.0</td>\n",
       "      <td>-0.05</td>\n",
       "      <td>0.0</td>\n",
       "      <td>0.0</td>\n",
       "      <td>160.0</td>\n",
       "      <td>-36.744158</td>\n",
       "      <td>-1.528404</td>\n",
       "      <td>19.612185</td>\n",
       "      <td>19.612185</td>\n",
       "      <td>3.649154</td>\n",
       "      <td>3.649154</td>\n",
       "      <td>0.983004</td>\n",
       "      <td>39.224370</td>\n",
       "      <td>-0.0</td>\n",
       "      <td>-0.0</td>\n",
       "    </tr>\n",
       "    <tr>\n",
       "      <th>6</th>\n",
       "      <td>31.0</td>\n",
       "      <td>-0.35</td>\n",
       "      <td>0.0</td>\n",
       "      <td>0.0</td>\n",
       "      <td>160.0</td>\n",
       "      <td>-48.912411</td>\n",
       "      <td>-5.173556</td>\n",
       "      <td>21.019493</td>\n",
       "      <td>21.019493</td>\n",
       "      <td>-7.342555</td>\n",
       "      <td>-7.342555</td>\n",
       "      <td>0.984142</td>\n",
       "      <td>42.038987</td>\n",
       "      <td>0.0</td>\n",
       "      <td>-0.0</td>\n",
       "    </tr>\n",
       "    <tr>\n",
       "      <th>...</th>\n",
       "      <td>...</td>\n",
       "      <td>...</td>\n",
       "      <td>...</td>\n",
       "      <td>...</td>\n",
       "      <td>...</td>\n",
       "      <td>...</td>\n",
       "      <td>...</td>\n",
       "      <td>...</td>\n",
       "      <td>...</td>\n",
       "      <td>...</td>\n",
       "      <td>...</td>\n",
       "      <td>...</td>\n",
       "      <td>...</td>\n",
       "      <td>...</td>\n",
       "      <td>...</td>\n",
       "    </tr>\n",
       "    <tr>\n",
       "      <th>527</th>\n",
       "      <td>23.0</td>\n",
       "      <td>0.53</td>\n",
       "      <td>0.0</td>\n",
       "      <td>0.0</td>\n",
       "      <td>48.0</td>\n",
       "      <td>-8.733299</td>\n",
       "      <td>3.222294</td>\n",
       "      <td>9.559405</td>\n",
       "      <td>9.559405</td>\n",
       "      <td>-0.789102</td>\n",
       "      <td>-0.789102</td>\n",
       "      <td>0.965130</td>\n",
       "      <td>19.118809</td>\n",
       "      <td>0.0</td>\n",
       "      <td>0.0</td>\n",
       "    </tr>\n",
       "    <tr>\n",
       "      <th>619</th>\n",
       "      <td>23.0</td>\n",
       "      <td>0.55</td>\n",
       "      <td>0.0</td>\n",
       "      <td>0.0</td>\n",
       "      <td>48.0</td>\n",
       "      <td>-8.258782</td>\n",
       "      <td>3.390717</td>\n",
       "      <td>9.537052</td>\n",
       "      <td>9.537052</td>\n",
       "      <td>-0.456235</td>\n",
       "      <td>-0.456235</td>\n",
       "      <td>0.965049</td>\n",
       "      <td>19.074104</td>\n",
       "      <td>-0.0</td>\n",
       "      <td>-0.0</td>\n",
       "    </tr>\n",
       "    <tr>\n",
       "      <th>652</th>\n",
       "      <td>15.0</td>\n",
       "      <td>0.55</td>\n",
       "      <td>0.0</td>\n",
       "      <td>0.0</td>\n",
       "      <td>32.0</td>\n",
       "      <td>-4.925624</td>\n",
       "      <td>2.863186</td>\n",
       "      <td>5.618242</td>\n",
       "      <td>5.618242</td>\n",
       "      <td>-0.334293</td>\n",
       "      <td>-0.334293</td>\n",
       "      <td>0.940669</td>\n",
       "      <td>11.236484</td>\n",
       "      <td>-0.0</td>\n",
       "      <td>0.0</td>\n",
       "    </tr>\n",
       "    <tr>\n",
       "      <th>664</th>\n",
       "      <td>15.0</td>\n",
       "      <td>0.45</td>\n",
       "      <td>0.0</td>\n",
       "      <td>0.0</td>\n",
       "      <td>32.0</td>\n",
       "      <td>-6.781795</td>\n",
       "      <td>1.748775</td>\n",
       "      <td>6.441104</td>\n",
       "      <td>6.441104</td>\n",
       "      <td>-0.042384</td>\n",
       "      <td>-0.042384</td>\n",
       "      <td>0.948249</td>\n",
       "      <td>12.882207</td>\n",
       "      <td>-0.0</td>\n",
       "      <td>-0.0</td>\n",
       "    </tr>\n",
       "    <tr>\n",
       "      <th>691</th>\n",
       "      <td>15.0</td>\n",
       "      <td>0.53</td>\n",
       "      <td>0.0</td>\n",
       "      <td>0.0</td>\n",
       "      <td>32.0</td>\n",
       "      <td>-5.206954</td>\n",
       "      <td>2.737475</td>\n",
       "      <td>5.635003</td>\n",
       "      <td>5.635003</td>\n",
       "      <td>0.015792</td>\n",
       "      <td>0.015792</td>\n",
       "      <td>0.940846</td>\n",
       "      <td>11.270007</td>\n",
       "      <td>-0.0</td>\n",
       "      <td>0.0</td>\n",
       "    </tr>\n",
       "  </tbody>\n",
       "</table>\n",
       "<p>193 rows × 15 columns</p>\n",
       "</div>"
      ],
      "text/plain": [
       "       Lx  lambda  mu_y  theta  bondD  Energy_GS   winding         eA  \\\n",
       "1    31.0   -0.28   0.0    0.0  160.0 -45.789549 -4.158900  20.624715   \n",
       "2    31.0   -0.07   0.0    0.0  160.0 -37.727336 -1.796928  19.715229   \n",
       "3    31.0   -0.33   0.0    0.0  160.0 -47.864846 -4.825764  20.883823   \n",
       "5    31.0   -0.05   0.0    0.0  160.0 -36.744158 -1.528404  19.612185   \n",
       "6    31.0   -0.35   0.0    0.0  160.0 -48.912411 -5.173556  21.019493   \n",
       "..    ...     ...   ...    ...    ...        ...       ...        ...   \n",
       "527  23.0    0.53   0.0    0.0   48.0  -8.733299  3.222294   9.559405   \n",
       "619  23.0    0.55   0.0    0.0   48.0  -8.258782  3.390717   9.537052   \n",
       "652  15.0    0.55   0.0    0.0   32.0  -4.925624  2.863186   5.618242   \n",
       "664  15.0    0.45   0.0    0.0   32.0  -6.781795  1.748775   6.441104   \n",
       "691  15.0    0.53   0.0    0.0   32.0  -5.206954  2.737475   5.635003   \n",
       "\n",
       "            eB        MA        MB        U4      Oflip  Oflipp  charge  \n",
       "1    20.624715 -6.114780 -6.114780  0.983838  41.249429    -0.0    -0.0  \n",
       "2    19.715229  3.854523  3.854523  0.983093  39.430459    -0.0     0.0  \n",
       "3    20.883823  6.906000  6.906000  0.984039  41.767647     0.0     0.0  \n",
       "5    19.612185  3.649154  3.649154  0.983004  39.224370    -0.0    -0.0  \n",
       "6    21.019493 -7.342555 -7.342555  0.984142  42.038987     0.0    -0.0  \n",
       "..         ...       ...       ...       ...        ...     ...     ...  \n",
       "527   9.559405 -0.789102 -0.789102  0.965130  19.118809     0.0     0.0  \n",
       "619   9.537052 -0.456235 -0.456235  0.965049  19.074104    -0.0    -0.0  \n",
       "652   5.618242 -0.334293 -0.334293  0.940669  11.236484    -0.0     0.0  \n",
       "664   6.441104 -0.042384 -0.042384  0.948249  12.882207    -0.0    -0.0  \n",
       "691   5.635003  0.015792  0.015792  0.940846  11.270007    -0.0     0.0  \n",
       "\n",
       "[193 rows x 15 columns]"
      ]
     },
     "execution_count": 46,
     "metadata": {},
     "output_type": "execute_result"
    }
   ],
   "source": [
    "df = pd.read_csv(r'scan_zero_mu.dat' , delimiter='  ', skip_blank_lines=True)\n",
    "data = filter_max_bondD(df)\n",
    "#df = df.sort_values(by=['bondD'], ascending=False)\n",
    "df = pd.DataFrame(data[1:])\n",
    "df = df.drop(columns=\"index\")\n",
    "#print(len(data))\n",
    "#print(len(df))\n",
    "df\n",
    "\n"
   ]
  },
  {
   "cell_type": "code",
   "execution_count": 52,
   "metadata": {},
   "outputs": [
    {
     "data": {
      "text/plain": [
       "<matplotlib.legend.Legend at 0x7f3747764940>"
      ]
     },
     "execution_count": 52,
     "metadata": {},
     "output_type": "execute_result"
    },
    {
     "data": {
      "image/png": "[encoded data removed]",
      "text/plain": [
       "<Figure size 720x447.205 with 1 Axes>"
      ]
     },
     "metadata": {
      "needs_background": "light"
     },
     "output_type": "display_data"
    }
   ],
   "source": [
    "qtty = \"lambda\"\n",
    "plt.figure(figsize=(10,10/1.61))\n",
    "plt.scatter(df[(df['Lx']==31)][qtty], df[(df['Lx']==31)]['winding'], lw=0,marker='o',s=30, label= r'$L_x=31$ Winding')\n",
    "plt.scatter(df[(df['Lx']==23)][qtty], df[(df['Lx']==23)]['winding'], lw=0,marker='o',s=30, label= r'$L_x=23$ Winding')\n",
    "#plt.plot(df[(df['Lx']==10)]['mu_y'], df[(df['Lx']==10)]['winding'], lw=0,marker='X', label= 'Lx=10 Winding')\n",
    "plt.scatter(df[(df['Lx']==15)][qtty], df[(df['Lx']==15)]['winding'], lw=0,marker='o',s=30, label= r'$L_x=15$ Winding')\n",
    "plt.grid()\n",
    "plt.ylabel('Winding Numbers')\n",
    "plt.xlabel(r'$\\lambda$')\n",
    "plt.legend()\n",
    "#plt.savefig(\"/Users/paolostornati/Desktop/Talks/LATTICE_2021/Lambda_1_winding.png\", format=\"png\", dpi=300)"
   ]
  },
  {
   "cell_type": "code",
   "execution_count": 60,
   "metadata": {},
   "outputs": [
    {
     "data": {
      "text/plain": [
       "<matplotlib.legend.Legend at 0x7f37471aa640>"
      ]
     },
     "execution_count": 60,
     "metadata": {},
     "output_type": "execute_result"
    },
    {
     "data": {
      "image/png": "[encoded data removed]",
      "text/plain": [
       "<Figure size 1008x720 with 1 Axes>"
      ]
     },
     "metadata": {
      "needs_background": "light"
     },
     "output_type": "display_data"
    }
   ],
   "source": [
    "plt.figure(figsize=(14,10))\n",
    "plt.plot(df[(df['Lx']==31)][qtty], df[(df['Lx']==31)]['eA']+df[(df['Lx']==31)]['eB'], lw=0,marker='o', label= r'$L_x=31$ Ea + Eb' )    \n",
    "plt.plot(df[(df['Lx']==23)][qtty],  df[(df['Lx']==23)]['eA']+df[(df['Lx']==23)]['eB'], lw=0,marker='o', label= r'$L_x=23$ Ea + Eb' ) \n",
    "plt.plot(df[(df['Lx']==15)][qtty],  df[(df['Lx']==15)]['eA']+df[(df['Lx']==15)]['eB'], lw=0,marker='o', label= r'$L_x=15$ Ea + Eb' ) \n",
    "plt.grid()\n",
    "plt.xlabel(r\"$\\lambda$\")\n",
    "plt.ylabel(r\"$E_a+E_b$\")\n",
    "plt.legend()"
   ]
  },
  {
   "cell_type": "code",
   "execution_count": 62,
   "metadata": {},
   "outputs": [
    {
     "data": {
      "text/plain": [
       "<matplotlib.legend.Legend at 0x7f3746e32f70>"
      ]
     },
     "execution_count": 62,
     "metadata": {},
     "output_type": "execute_result"
    },
    {
     "data": {
      "image/png": "[encoded data removed]",
      "text/plain": [
       "<Figure size 1008x720 with 1 Axes>"
      ]
     },
     "metadata": {
      "needs_background": "light"
     },
     "output_type": "display_data"
    }
   ],
   "source": [
    "plt.figure(figsize=(14,10))\n",
    "plt.plot(df[(df['Lx']==31)][qtty], df[(df['Lx']==31)]['Oflipp'], lw=0,marker='o', label = 'Oflipp')\n",
    "#plt.plot(df[(df['Lx']==31)][qtty], df[(df['Lx']==31)]['winding'], lw=0,marker='o', label = 'winding')\n",
    "plt.grid()\n",
    "plt.legend()\n",
    "#np.diff(df[(df['Lx']==16)]['winding'])\n",
    "\n",
    "#plt.plot(df[(df['Lx']==12)]['mu_y'], df[(df['Lx']==12)]['Oflipp'], lw=0,marker='o')\n",
    "#plt.plot(df[(df['Lx']==8)]['mu_y'], df[(df['Lx']==8)]['Oflipp'], lw=0,marker='o')"
   ]
  },
  {
   "cell_type": "code",
   "execution_count": 66,
   "metadata": {},
   "outputs": [
    {
     "data": {
      "text/plain": [
       "<matplotlib.legend.Legend at 0x7f3746d23b50>"
      ]
     },
     "execution_count": 66,
     "metadata": {},
     "output_type": "execute_result"
    },
    {
     "data": {
      "image/png": "[encoded data removed]",
      "text/plain": [
       "<Figure size 1008x720 with 1 Axes>"
      ]
     },
     "metadata": {
      "needs_background": "light"
     },
     "output_type": "display_data"
    }
   ],
   "source": [
    "plt.figure(figsize=(14,10))\n",
    "plt.plot(df[(df['Lx']==31)][qtty], df[(df['Lx']==31)]['Energy_GS']/31, lw=0,marker='o', label= 'Lx=31 Energy_GS')\n",
    "plt.plot(df[(df['Lx']==23)][qtty], df[(df['Lx']==23)]['Energy_GS']/23, lw=0,marker='o', label= 'Lx=23 Energy_GS')\n",
    "plt.plot(df[(df['Lx']==15)][qtty], df[(df['Lx']==15)]['Energy_GS']/15, lw=0,marker='o', label= 'Lx=15 Energy_GS')\n",
    "plt.xlabel(r\"$\\lambda$\")\n",
    "plt.grid()\n",
    "plt.legend()"
   ]
  }
 ],
 "metadata": {
  "kernelspec": {
   "display_name": "Python 3 (ipykernel)",
   "language": "python",
   "name": "python3"
  },
  "language_info": {
   "codemirror_mode": {
    "name": "ipython",
    "version": 3
   },
   "file_extension": ".py",
   "mimetype": "text/x-python",
   "name": "python",
   "nbconvert_exporter": "python",
   "pygments_lexer": "ipython3",
   "version": "3.9.7"
  }
 },
 "nbformat": 4,
 "nbformat_minor": 4
}
