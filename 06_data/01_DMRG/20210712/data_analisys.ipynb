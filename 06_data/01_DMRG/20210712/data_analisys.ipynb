{
 "cells": [
  {
   "cell_type": "code",
   "execution_count": 1,
   "metadata": {},
   "outputs": [],
   "source": [
    "import pandas as pd\n",
    "import os\n",
    "import numpy as np\n",
    "import matplotlib.pyplot as plt\n",
    "import matplotlib.cm as cm\n",
    "plt.style.use('/Users/paolostornati/Phd/phdthesis.mpltstyle')\n",
    "niceblack=\"#262626\"\n",
    "from matplotlib.colors import ListedColormap\n",
    "from palettable.cartocolors.sequential import DarkMint_7\n",
    "import palettable\n",
    "cmap = ListedColormap(DarkMint_7.mpl_colors)\n",
    "colors_mint = cmap.colors\n"
   ]
  },
  {
   "cell_type": "code",
   "execution_count": 2,
   "metadata": {},
   "outputs": [],
   "source": [
    "df = pd.read_csv(r'./all.dat' , delimiter='  ', engine='python', skip_blank_lines=True)"
   ]
  },
  {
   "cell_type": "code",
   "execution_count": 3,
   "metadata": {},
   "outputs": [
    {
     "data": {
      "text/html": [
       "<div>\n",
       "<style scoped>\n",
       "    .dataframe tbody tr th:only-of-type {\n",
       "        vertical-align: middle;\n",
       "    }\n",
       "\n",
       "    .dataframe tbody tr th {\n",
       "        vertical-align: top;\n",
       "    }\n",
       "\n",
       "    .dataframe thead th {\n",
       "        text-align: right;\n",
       "    }\n",
       "</style>\n",
       "<table border=\"1\" class=\"dataframe\">\n",
       "  <thead>\n",
       "    <tr style=\"text-align: right;\">\n",
       "      <th></th>\n",
       "      <th>Lx</th>\n",
       "      <th>lambda</th>\n",
       "      <th>mu_y</th>\n",
       "      <th>theta</th>\n",
       "      <th>bondD</th>\n",
       "      <th>Energy_GS</th>\n",
       "      <th>winding</th>\n",
       "      <th>eA</th>\n",
       "      <th>eB</th>\n",
       "      <th>MA</th>\n",
       "      <th>MB</th>\n",
       "      <th>U4</th>\n",
       "      <th>Oflip</th>\n",
       "      <th>Oflipp</th>\n",
       "      <th>charge</th>\n",
       "    </tr>\n",
       "  </thead>\n",
       "  <tbody>\n",
       "    <tr>\n",
       "      <th>0</th>\n",
       "      <td>7</td>\n",
       "      <td>-2.0</td>\n",
       "      <td>0.00</td>\n",
       "      <td>0.0</td>\n",
       "      <td>32</td>\n",
       "      <td>-30.455092</td>\n",
       "      <td>-5.556154</td>\n",
       "      <td>6.476724</td>\n",
       "      <td>6.476724</td>\n",
       "      <td>6.041824</td>\n",
       "      <td>6.041824</td>\n",
       "      <td>9.485340e-01</td>\n",
       "      <td>12.953447</td>\n",
       "      <td>-0.0</td>\n",
       "      <td>0.0</td>\n",
       "    </tr>\n",
       "    <tr>\n",
       "      <th>1</th>\n",
       "      <td>7</td>\n",
       "      <td>-2.0</td>\n",
       "      <td>0.00</td>\n",
       "      <td>0.0</td>\n",
       "      <td>48</td>\n",
       "      <td>-30.455092</td>\n",
       "      <td>-5.556154</td>\n",
       "      <td>6.476724</td>\n",
       "      <td>6.476724</td>\n",
       "      <td>6.041824</td>\n",
       "      <td>6.041824</td>\n",
       "      <td>9.485340e-01</td>\n",
       "      <td>12.953447</td>\n",
       "      <td>-0.0</td>\n",
       "      <td>0.0</td>\n",
       "    </tr>\n",
       "    <tr>\n",
       "      <th>2</th>\n",
       "      <td>7</td>\n",
       "      <td>-2.0</td>\n",
       "      <td>0.05</td>\n",
       "      <td>0.0</td>\n",
       "      <td>32</td>\n",
       "      <td>-30.455092</td>\n",
       "      <td>-5.556154</td>\n",
       "      <td>6.476724</td>\n",
       "      <td>6.476724</td>\n",
       "      <td>-6.041824</td>\n",
       "      <td>-6.041824</td>\n",
       "      <td>9.485340e-01</td>\n",
       "      <td>12.953447</td>\n",
       "      <td>0.0</td>\n",
       "      <td>-0.0</td>\n",
       "    </tr>\n",
       "    <tr>\n",
       "      <th>3</th>\n",
       "      <td>7</td>\n",
       "      <td>-2.0</td>\n",
       "      <td>0.05</td>\n",
       "      <td>0.0</td>\n",
       "      <td>48</td>\n",
       "      <td>-30.455092</td>\n",
       "      <td>-5.556154</td>\n",
       "      <td>6.476724</td>\n",
       "      <td>6.476724</td>\n",
       "      <td>-6.041824</td>\n",
       "      <td>-6.041824</td>\n",
       "      <td>9.485340e-01</td>\n",
       "      <td>12.953447</td>\n",
       "      <td>0.0</td>\n",
       "      <td>-0.0</td>\n",
       "    </tr>\n",
       "    <tr>\n",
       "      <th>4</th>\n",
       "      <td>7</td>\n",
       "      <td>-2.0</td>\n",
       "      <td>0.10</td>\n",
       "      <td>0.0</td>\n",
       "      <td>32</td>\n",
       "      <td>-30.455092</td>\n",
       "      <td>-5.556154</td>\n",
       "      <td>6.476724</td>\n",
       "      <td>6.476724</td>\n",
       "      <td>-6.041824</td>\n",
       "      <td>-6.041824</td>\n",
       "      <td>9.485340e-01</td>\n",
       "      <td>12.953447</td>\n",
       "      <td>0.0</td>\n",
       "      <td>0.0</td>\n",
       "    </tr>\n",
       "    <tr>\n",
       "      <th>...</th>\n",
       "      <td>...</td>\n",
       "      <td>...</td>\n",
       "      <td>...</td>\n",
       "      <td>...</td>\n",
       "      <td>...</td>\n",
       "      <td>...</td>\n",
       "      <td>...</td>\n",
       "      <td>...</td>\n",
       "      <td>...</td>\n",
       "      <td>...</td>\n",
       "      <td>...</td>\n",
       "      <td>...</td>\n",
       "      <td>...</td>\n",
       "      <td>...</td>\n",
       "      <td>...</td>\n",
       "    </tr>\n",
       "    <tr>\n",
       "      <th>363</th>\n",
       "      <td>15</td>\n",
       "      <td>1.0</td>\n",
       "      <td>1.30</td>\n",
       "      <td>0.0</td>\n",
       "      <td>64</td>\n",
       "      <td>-41.600000</td>\n",
       "      <td>15.000000</td>\n",
       "      <td>0.000000</td>\n",
       "      <td>0.000000</td>\n",
       "      <td>0.000000</td>\n",
       "      <td>-0.000000</td>\n",
       "      <td>-7.645125e+26</td>\n",
       "      <td>0.000000</td>\n",
       "      <td>0.0</td>\n",
       "      <td>-0.0</td>\n",
       "    </tr>\n",
       "    <tr>\n",
       "      <th>364</th>\n",
       "      <td>15</td>\n",
       "      <td>1.0</td>\n",
       "      <td>1.35</td>\n",
       "      <td>0.0</td>\n",
       "      <td>64</td>\n",
       "      <td>-43.200000</td>\n",
       "      <td>15.000000</td>\n",
       "      <td>0.000000</td>\n",
       "      <td>0.000000</td>\n",
       "      <td>0.000000</td>\n",
       "      <td>-0.000000</td>\n",
       "      <td>-6.193942e+27</td>\n",
       "      <td>0.000000</td>\n",
       "      <td>0.0</td>\n",
       "      <td>0.0</td>\n",
       "    </tr>\n",
       "    <tr>\n",
       "      <th>365</th>\n",
       "      <td>15</td>\n",
       "      <td>1.0</td>\n",
       "      <td>1.40</td>\n",
       "      <td>0.0</td>\n",
       "      <td>64</td>\n",
       "      <td>-44.800000</td>\n",
       "      <td>15.000000</td>\n",
       "      <td>0.000000</td>\n",
       "      <td>0.000000</td>\n",
       "      <td>0.000000</td>\n",
       "      <td>-0.000000</td>\n",
       "      <td>-3.969297e+27</td>\n",
       "      <td>0.000000</td>\n",
       "      <td>0.0</td>\n",
       "      <td>-0.0</td>\n",
       "    </tr>\n",
       "    <tr>\n",
       "      <th>366</th>\n",
       "      <td>15</td>\n",
       "      <td>1.0</td>\n",
       "      <td>1.45</td>\n",
       "      <td>0.0</td>\n",
       "      <td>64</td>\n",
       "      <td>-46.400000</td>\n",
       "      <td>15.000000</td>\n",
       "      <td>0.000000</td>\n",
       "      <td>0.000000</td>\n",
       "      <td>0.000000</td>\n",
       "      <td>-0.000000</td>\n",
       "      <td>-2.969878e+27</td>\n",
       "      <td>0.000000</td>\n",
       "      <td>0.0</td>\n",
       "      <td>0.0</td>\n",
       "    </tr>\n",
       "    <tr>\n",
       "      <th>367</th>\n",
       "      <td>15</td>\n",
       "      <td>1.0</td>\n",
       "      <td>1.50</td>\n",
       "      <td>0.0</td>\n",
       "      <td>64</td>\n",
       "      <td>-48.000000</td>\n",
       "      <td>15.000000</td>\n",
       "      <td>0.000000</td>\n",
       "      <td>0.000000</td>\n",
       "      <td>0.000000</td>\n",
       "      <td>0.000000</td>\n",
       "      <td>-1.262406e+28</td>\n",
       "      <td>0.000000</td>\n",
       "      <td>0.0</td>\n",
       "      <td>-0.0</td>\n",
       "    </tr>\n",
       "  </tbody>\n",
       "</table>\n",
       "<p>368 rows × 15 columns</p>\n",
       "</div>"
      ],
      "text/plain": [
       "     Lx  lambda  mu_y  theta  bondD  Energy_GS    winding        eA        eB  \\\n",
       "0     7    -2.0  0.00    0.0     32 -30.455092  -5.556154  6.476724  6.476724   \n",
       "1     7    -2.0  0.00    0.0     48 -30.455092  -5.556154  6.476724  6.476724   \n",
       "2     7    -2.0  0.05    0.0     32 -30.455092  -5.556154  6.476724  6.476724   \n",
       "3     7    -2.0  0.05    0.0     48 -30.455092  -5.556154  6.476724  6.476724   \n",
       "4     7    -2.0  0.10    0.0     32 -30.455092  -5.556154  6.476724  6.476724   \n",
       "..   ..     ...   ...    ...    ...        ...        ...       ...       ...   \n",
       "363  15     1.0  1.30    0.0     64 -41.600000  15.000000  0.000000  0.000000   \n",
       "364  15     1.0  1.35    0.0     64 -43.200000  15.000000  0.000000  0.000000   \n",
       "365  15     1.0  1.40    0.0     64 -44.800000  15.000000  0.000000  0.000000   \n",
       "366  15     1.0  1.45    0.0     64 -46.400000  15.000000  0.000000  0.000000   \n",
       "367  15     1.0  1.50    0.0     64 -48.000000  15.000000  0.000000  0.000000   \n",
       "\n",
       "           MA        MB            U4      Oflip  Oflipp  charge  \n",
       "0    6.041824  6.041824  9.485340e-01  12.953447    -0.0     0.0  \n",
       "1    6.041824  6.041824  9.485340e-01  12.953447    -0.0     0.0  \n",
       "2   -6.041824 -6.041824  9.485340e-01  12.953447     0.0    -0.0  \n",
       "3   -6.041824 -6.041824  9.485340e-01  12.953447     0.0    -0.0  \n",
       "4   -6.041824 -6.041824  9.485340e-01  12.953447     0.0     0.0  \n",
       "..        ...       ...           ...        ...     ...     ...  \n",
       "363  0.000000 -0.000000 -7.645125e+26   0.000000     0.0    -0.0  \n",
       "364  0.000000 -0.000000 -6.193942e+27   0.000000     0.0     0.0  \n",
       "365  0.000000 -0.000000 -3.969297e+27   0.000000     0.0    -0.0  \n",
       "366  0.000000 -0.000000 -2.969878e+27   0.000000     0.0     0.0  \n",
       "367  0.000000  0.000000 -1.262406e+28   0.000000     0.0    -0.0  \n",
       "\n",
       "[368 rows x 15 columns]"
      ]
     },
     "execution_count": 3,
     "metadata": {},
     "output_type": "execute_result"
    }
   ],
   "source": [
    "df"
   ]
  },
  {
   "cell_type": "code",
   "execution_count": 4,
   "metadata": {},
   "outputs": [
    {
     "data": {
      "text/plain": [
       "Lx             int64\n",
       "lambda       float64\n",
       "mu_y         float64\n",
       "theta        float64\n",
       "bondD          int64\n",
       "Energy_GS    float64\n",
       "winding      float64\n",
       "eA           float64\n",
       "eB            object\n",
       "MA           float64\n",
       "MB           float64\n",
       "U4           float64\n",
       "Oflip        float64\n",
       "Oflipp       float64\n",
       "charge       float64\n",
       "dtype: object"
      ]
     },
     "execution_count": 4,
     "metadata": {},
     "output_type": "execute_result"
    }
   ],
   "source": [
    "df.dtypes"
   ]
  },
  {
   "cell_type": "code",
   "execution_count": 5,
   "metadata": {},
   "outputs": [
    {
     "data": {
      "text/plain": [
       "0       7\n",
       "1       7\n",
       "2       7\n",
       "3       7\n",
       "4       7\n",
       "       ..\n",
       "363    15\n",
       "364    15\n",
       "365    15\n",
       "366    15\n",
       "367    15\n",
       "Name: Lx, Length: 368, dtype: int64"
      ]
     },
     "execution_count": 5,
     "metadata": {},
     "output_type": "execute_result"
    }
   ],
   "source": [
    "df.Lx"
   ]
  },
  {
   "cell_type": "code",
   "execution_count": 6,
   "metadata": {},
   "outputs": [
    {
     "data": {
      "text/plain": [
       "[<matplotlib.lines.Line2D at 0x7f88798b8790>]"
      ]
     },
     "execution_count": 6,
     "metadata": {},
     "output_type": "execute_result"
    },
    {
     "data": {
      "image/png": "[encoded data removed]",
      "text/plain": [
       "<Figure size 720x447.25 with 1 Axes>"
      ]
     },
     "metadata": {
      "needs_background": "light"
     },
     "output_type": "display_data"
    }
   ],
   "source": [
    "plt.plot(df.Lx)"
   ]
  },
  {
   "cell_type": "code",
   "execution_count": 7,
   "metadata": {},
   "outputs": [
    {
     "name": "stderr",
     "output_type": "stream",
     "text": [
      "/Users/paolostornati/opt/anaconda3/lib/python3.7/site-packages/ipykernel_launcher.py:2: UserWarning: Boolean Series key will be reindexed to match DataFrame index.\n",
      "  \n",
      "/Users/paolostornati/opt/anaconda3/lib/python3.7/site-packages/ipykernel_launcher.py:3: UserWarning: Boolean Series key will be reindexed to match DataFrame index.\n",
      "  This is separate from the ipykernel package so we can avoid doing imports until\n",
      "/Users/paolostornati/opt/anaconda3/lib/python3.7/site-packages/ipykernel_launcher.py:5: UserWarning: Boolean Series key will be reindexed to match DataFrame index.\n",
      "  \"\"\"\n"
     ]
    },
    {
     "data": {
      "image/png": "[encoded data removed]",
      "text/plain": [
       "<Figure size 720x447.205 with 1 Axes>"
      ]
     },
     "metadata": {
      "needs_background": "light"
     },
     "output_type": "display_data"
    }
   ],
   "source": [
    "plt.figure(figsize=(10,10/1.61))\n",
    "plt.scatter(df[(df['Lx']==15)][(df['lambda']==-0.0)]['mu_y'], df[(df['Lx']==15)][(df['lambda']==-0.0)]['winding'], lw=0,marker='o',s=30, label= 'Lx=16 Winding')\n",
    "plt.scatter(df[(df['Lx']==11)][(df['lambda']==-0.0)]['mu_y'], df[(df['Lx']==11)][(df['lambda']==-0.0)]['winding'], lw=0,marker='o',s=30, label= 'Lx=12 Winding')\n",
    "#plt.plot(df[(df['Lx']==9)][(df['lambda']==-0.0)]['mu_y'], df[(df['Lx']==9)][(df['lambda']==-0.0)]['winding'], lw=0,marker='X', label= 'Lx=10 Winding')\n",
    "plt.scatter(df[(df['Lx']==7)][(df['lambda']==-0.0)]['mu_y'], df[(df['Lx']==7)][(df['lambda']==-0.0)]['winding'], lw=0,marker='o',s=30, label= 'Lx=8 Winding')\n",
    "plt.ylabel('Winding Numbers')\n",
    "plt.xlabel('Chemical Potential')\n",
    "plt.grid()\n",
    "plt.legend()\n",
    "plt.savefig(\"/Users/paolostornati/Desktop/Talks/LATTICE_2021/Lambda_2_winding.png\", format=\"png\", dpi=300)"
   ]
  },
  {
   "cell_type": "code",
   "execution_count": 9,
   "metadata": {},
   "outputs": [
    {
     "name": "stderr",
     "output_type": "stream",
     "text": [
      "/Users/paolostornati/opt/anaconda3/lib/python3.7/site-packages/ipykernel_launcher.py:2: UserWarning: Boolean Series key will be reindexed to match DataFrame index.\n",
      "  \n",
      "/Users/paolostornati/opt/anaconda3/lib/python3.7/site-packages/ipykernel_launcher.py:4: UserWarning: Boolean Series key will be reindexed to match DataFrame index.\n",
      "  after removing the cwd from sys.path.\n",
      "/Users/paolostornati/opt/anaconda3/lib/python3.7/site-packages/ipykernel_launcher.py:6: UserWarning: Boolean Series key will be reindexed to match DataFrame index.\n",
      "  \n",
      "/Users/paolostornati/opt/anaconda3/lib/python3.7/site-packages/ipykernel_launcher.py:8: UserWarning: Boolean Series key will be reindexed to match DataFrame index.\n",
      "  \n",
      "/Users/paolostornati/opt/anaconda3/lib/python3.7/site-packages/ipykernel_launcher.py:9: UserWarning: Boolean Series key will be reindexed to match DataFrame index.\n",
      "  if __name__ == '__main__':\n",
      "/Users/paolostornati/opt/anaconda3/lib/python3.7/site-packages/ipykernel_launcher.py:10: UserWarning: Boolean Series key will be reindexed to match DataFrame index.\n",
      "  # Remove the CWD from sys.path while we load stuff.\n"
     ]
    },
    {
     "data": {
      "image/png": "[encoded data removed]",
      "text/plain": [
       "<Figure size 720x447.205 with 1 Axes>"
      ]
     },
     "metadata": {
      "needs_background": "light"
     },
     "output_type": "display_data"
    }
   ],
   "source": [
    "plt.figure(figsize=(10,10/1.61))\n",
    "dE_L16= list(-np.diff(df[(df['Lx']==15)][(df['lambda']==-0.0)]['Energy_GS']))\n",
    "dE_L16.append(0)\n",
    "dE_L12= list(-np.diff(df[(df['Lx']==11)][(df['lambda']==-0.0)]['Energy_GS']))\n",
    "dE_L12.append(0)\n",
    "dE_L8= list(-np.diff(df[(df['Lx']==7)][(df['lambda']==-0.0)]['Energy_GS']))\n",
    "dE_L8.append(0)\n",
    "plt.scatter(df[(df['Lx']==15)][(df['lambda']==-0.0)]['mu_y'], dE_L16, lw=0,marker='o',s=30, label = 'dE/dMu (Lx=16)')\n",
    "plt.scatter(df[(df['Lx']==11)][(df['lambda']==-0.0)]['mu_y'], dE_L12, lw=0,marker='o',s=30, label = 'dE/dMu (Lx=12)')\n",
    "plt.scatter(df[(df['Lx']==7)][(df['lambda']==-0.0)]['mu_y'], dE_L8, lw=0,marker='o',s=30, label = 'dE/dMu (Lx=8)')\n",
    "\n",
    "plt.ylabel('dE/dMu')\n",
    "plt.xlabel('Chemical Potential')\n",
    "\n",
    "plt.grid()\n",
    "plt.legend()\n",
    "plt.savefig(\"/Users/paolostornati/Desktop/Talks/LATTICE_2021/Lambda_2_dE_dMu.png\", format=\"png\", dpi=300)\n",
    "\n"
   ]
  },
  {
   "cell_type": "code",
   "execution_count": null,
   "metadata": {},
   "outputs": [],
   "source": []
  }
 ],
 "metadata": {
  "kernelspec": {
   "display_name": "Python 3",
   "language": "python",
   "name": "python3"
  },
  "language_info": {
   "codemirror_mode": {
    "name": "ipython",
    "version": 3
   },
   "file_extension": ".py",
   "mimetype": "text/x-python",
   "name": "python",
   "nbconvert_exporter": "python",
   "pygments_lexer": "ipython3",
   "version": "3.7.6"
  }
 },
 "nbformat": 4,
 "nbformat_minor": 4
}
