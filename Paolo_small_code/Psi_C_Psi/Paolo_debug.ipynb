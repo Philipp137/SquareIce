{
 "cells": [
  {
   "cell_type": "code",
   "execution_count": 1,
   "metadata": {},
   "outputs": [],
   "source": [
    "using LinearAlgebra, TensorOperations, KrylovKit\n",
    "\n",
    "\n",
    "\n",
    "include(\"/Users/paolostornati/Phd/SquareIce/02_DMRG/func_dmrg.jl\");\n",
    "\n"
   ]
  },
  {
   "cell_type": "code",
   "execution_count": 2,
   "metadata": {},
   "outputs": [],
   "source": [
    "\n",
    "s=16\n",
    "D= 20\n",
    "N = 5\n",
    "\n",
    "#A = randmps(N, s, D);\n",
    "A = randmps(N, s, D, Complex{Float64});\n"
   ]
  },
  {
   "cell_type": "code",
   "execution_count": 9,
   "metadata": {},
   "outputs": [
    {
     "data": {
      "text/plain": [
       "MeasurePsi_C_Psi (generic function with 1 method)"
      ]
     },
     "execution_count": 9,
     "metadata": {},
     "output_type": "execute_result"
    }
   ],
   "source": [
    "function MeasurePsi_C_Psi(A)\n",
    "    N = length(A)\n",
    "    ρ = ones(eltype(A[1]), 1, 1)\n",
    "    sx = [0. 1.; 1. 0.]\n",
    "    #I = [1. 0.; 0. 1.] ,     Id = kron(kron(kron(I,I),I),I)\n",
    "    C = kron(kron(kron(sx,sx),sx),sx)\n",
    "\n",
    "    for k = 1:N\n",
    "        @tensor ρ[a, b] := ρ[a', b'] * A[k][b', s, b] * C[ s , s']* conj(A[k][a', s', a])\n",
    "    end\n",
    "    eta= ones(eltype(A[1]), 1, 1)\n",
    "    @tensor v = scalar(ρ[a, b] * eta[a, b])\n",
    "    \n",
    "    return v\n",
    "end\n",
    "\n"
   ]
  },
  {
   "cell_type": "code",
   "execution_count": 10,
   "metadata": {},
   "outputs": [
    {
     "data": {
      "text/plain": [
       "0.9999999999999993 + 2.1467203015212988e-17im"
      ]
     },
     "execution_count": 10,
     "metadata": {},
     "output_type": "execute_result"
    }
   ],
   "source": [
    "s=16\n",
    "D= 20\n",
    "N = 10\n",
    "\n",
    "#A = randmps(N, s, D);\n",
    "A = randmps(N, s, D, Complex{Float64});\n",
    "\n",
    "\n",
    "MeasurePsi_C_Psi(A)"
   ]
  },
  {
   "cell_type": "code",
   "execution_count": null,
   "metadata": {},
   "outputs": [],
   "source": []
  },
  {
   "cell_type": "code",
   "execution_count": null,
   "metadata": {},
   "outputs": [],
   "source": []
  }
 ],
 "metadata": {
  "kernelspec": {
   "display_name": "Julia 1.4.1",
   "language": "julia",
   "name": "julia-1.4"
  },
  "language_info": {
   "file_extension": ".jl",
   "mimetype": "application/julia",
   "name": "julia",
   "version": "1.4.1"
  }
 },
 "nbformat": 4,
 "nbformat_minor": 4
}
