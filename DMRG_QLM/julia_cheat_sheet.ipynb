{
 "cells": [
  {
   "cell_type": "code",
   "execution_count": 7,
   "metadata": {},
   "outputs": [],
   "source": [
    "using LinearAlgebra"
   ]
  },
  {
   "cell_type": "markdown",
   "metadata": {},
   "source": [
    "# My personal Julia cheat sheet"
   ]
  },
  {
   "cell_type": "code",
   "execution_count": 8,
   "metadata": {},
   "outputs": [
    {
     "name": "stdout",
     "output_type": "stream",
     "text": [
      "Q*Q'=[1.0 -2.77556e-17 -5.55112e-17; -2.77556e-17 1.0 -5.55112e-17; -5.55112e-17 -5.55112e-17 1.0]\n",
      "[1.0 -2.77556e-17 -5.55112e-17; -2.77556e-17 1.0 -5.55112e-17; -5.55112e-17 -5.55112e-17 1.0]\n"
     ]
    },
    {
     "ename": "UndefVarError",
     "evalue": "UndefVarError: Q not defined",
     "output_type": "error",
     "traceback": [
      "UndefVarError: Q not defined",
      "",
      "Stacktrace:",
      " [1] top-level scope at In[8]:11"
     ]
    }
   ],
   "source": [
    "A = randn(3,2)      # construct random Matrix\n",
    "A1 = copy(A)        # copy A to A1\n",
    "A2 = copy(A')       # copy the transpose of A\n",
    "QR=qr(A1)# do QR decomposition (Q orthogonal, R triangular)\n",
    "println(\"Q*Q'=\",QR.Q*QR.Q') # Q*Q' = I \n",
    "Q1 = qr!(A1).Q  # is the same as above just freeing space of A? \n",
    "              # meaning if you use ! then it can happen that \n",
    "              # Memory allocated for A is \n",
    "              # free to become allocated by other quantity\n",
    "println(Q1*Q1')\n",
    "println(\"size of Q1 \", size(Q))\n",
    "\n",
    "# LQ factorization = QR Factorization of the transpose of A1\n",
    "Q2=lq!(A2).Q\n",
    "println(\"size of Q2=\",size(Q))"
   ]
  },
  {
   "cell_type": "code",
   "execution_count": 11,
   "metadata": {},
   "outputs": [
    {
     "name": "stdout",
     "output_type": "stream",
     "text": [
      "(3, 3, 3, 3, 3, 3, 3, 3, 3)"
     ]
    }
   ],
   "source": [
    "a=ntuple(n->3,9) #creates a tuple of size 9 with element 3\n",
    "print(a)"
   ]
  },
  {
   "cell_type": "code",
   "execution_count": null,
   "metadata": {},
   "outputs": [],
   "source": []
  }
 ],
 "metadata": {
  "kernelspec": {
   "display_name": "Julia 1.0.4",
   "language": "julia",
   "name": "julia-1.0"
  },
  "language_info": {
   "file_extension": ".jl",
   "mimetype": "application/julia",
   "name": "julia",
   "version": "1.0.4"
  },
  "latex_envs": {
   "LaTeX_envs_menu_present": true,
   "autoclose": false,
   "autocomplete": false,
   "bibliofile": "biblio.bib",
   "cite_by": "apalike",
   "current_citInitial": 1,
   "eqLabelWithNumbers": true,
   "eqNumInitial": 1,
   "hotkeys": {
    "equation": "Ctrl-E",
    "itemize": "Ctrl-I"
   },
   "labels_anchors": false,
   "latex_user_defs": false,
   "report_style_numbering": false,
   "user_envs_cfg": false
  }
 },
 "nbformat": 4,
 "nbformat_minor": 2
}
