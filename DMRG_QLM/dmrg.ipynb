{
 "cells": [
  {
   "cell_type": "code",
   "execution_count": 3,
   "metadata": {},
   "outputs": [],
   "source": [
    "# Includes some packages and self written code\n",
    "using LinearAlgebra, TensorOperations, KrylovKit\n",
    "using JLD\n",
    "\n",
    "include(\"qlm_mpo.jl\");\n",
    "include(\"func_dmrg.jl\");\n"
   ]
  },
  {
   "cell_type": "markdown",
   "metadata": {},
   "source": [
    "# Squared Ice - MPS\n",
    "\n",
    "This notebook implements the Squared Ice Model in a DMRG procedure\n",
    "\n",
    "## Hamiltonian and grid definition\n",
    "We define the Square Ice Hamiltonian\n",
    "\n",
    "\\begin{equation}\n",
    "    H = \\sum_\\square (-f_\\square + \\lambda f^2_\\square)\\,,\\label{eq:hamiltonian}\n",
    "\\end{equation}\n",
    "where we some over all plaquettes. The plaquette operator is defined as:\n",
    "\\begin{equation}\\label{eq:plaquette}\n",
    "       f_\\square = \\sigma^+_{\\mu_1}\\sigma^+_{\\mu_2}\\sigma^-_{\\mu_3}\\sigma^-_{\\mu_4}\\, + h.c..\n",
    "\\end{equation}\n",
    "The Hamiltonian eq.\\eqref{eq:hamiltonian} is invariant under the local symmetry:\n",
    "\\begin{equation}\\label{eq:}\n",
    "    G_\\nu = \\sum_{\\hat{i}\\in\\{\\hat{x},\\hat{y}\\}} ( \\sigma_{\\nu-\\hat{i}/2}-\\sigma_{\\nu+\\hat{i}/2})\n",
    "\\end{equation}\n",
    "which counts the difference between in and outgoing arrows at vertex $\\nu$.\n",
    "In this work \n",
    "\\begin{equation}\\label{eq:ice_rule}\n",
    "G_\\nu=0 \\qquad\\text{ for all }\\qquad \\nu \\in \\Omega\n",
    "\\end{equation}\n",
    "\n",
    "For the cylindrical lattice:\n",
    "\\begin{align}\\label{eq:geometry}\n",
    "\\Omega=\\{\\nu = (n,m) |\\qquad n\\in\\{1,\\dots,L_x\\}, \\;  m \\in\\{1,\\dots L_y\\}\\}\n",
    "\\end{align}\n",
    "In all our lattices $L_y \\ll L_x$. For now we fix $L_y = 2$.\n"
   ]
  },
  {
   "cell_type": "code",
   "execution_count": 9,
   "metadata": {},
   "outputs": [
    {
     "data": {
      "text/plain": [
       "9"
      ]
     },
     "execution_count": 9,
     "metadata": {},
     "output_type": "execute_result"
    }
   ],
   "source": [
    "NStates=16   # is the number of states of the local hilbert state\n",
    "BondDim= 40  # is the inner bond dimension\n",
    "Lx = 9  # is the number of sites alonge the QL chain"
   ]
  },
  {
   "cell_type": "markdown",
   "metadata": {},
   "source": []
  },
  {
   "cell_type": "code",
   "execution_count": 10,
   "metadata": {},
   "outputs": [
    {
     "data": {
      "text/plain": [
       "randmps (generic function with 4 methods)"
      ]
     },
     "execution_count": 10,
     "metadata": {},
     "output_type": "execute_result"
    }
   ],
   "source": [
    "\"\"\"\n",
    "randmps(physdims::NTuple{N,Int}, Dmax::Int, [T::Type{<:Number} = Float64])\n",
    "randmps(N::Int, d::Int, Dmax::Int, [T::Type{<:Number} = Float64])\n",
    "\n",
    "Construct a random right canonical MPS for a system with `N`, where site `n` has local Hilbert\n",
    "space dimension `physdims[n]` (first method) or `d` (second method), and the maximal bond\n",
    "dimension is `Dmax`. Entries of the MPS tensors will be of type `T`, defaulting to `Float64`.\n",
    "\"\"\"\n",
    "function randmps(physdims::Dims{N}, Dmax::Int, T::Type{<:Number} = Float64) where {N}\n",
    "    bonddims = Vector{Int}(undef, N+1)\n",
    "    bonddims[1] = 1\n",
    "    bonddims[N+1] = 1\n",
    "    Nhalf = div(N,2)\n",
    "    for n = 2:N\n",
    "        bonddims[n] = min(Dmax, bonddims[n-1]*physdims[n-1])\n",
    "    end\n",
    "    for n = N:-1:1\n",
    "        bonddims[n] = min(bonddims[n], bonddims[n+1]*physdims[n])\n",
    "    end\n",
    "\n",
    "    As = Vector{Any}(undef, N)\n",
    "    for n = 1:N\n",
    "        d = physdims[n]\n",
    "        Dl = bonddims[n]\n",
    "        Dr = bonddims[n+1]\n",
    "        As[n] = reshape(randisometry(T, Dl, d*Dr), (Dl, d, Dr))\n",
    "    end\n",
    "    return As\n",
    "end\n",
    "randmps(N::Int, d::Int, Dmax::Int, T = Float64) = randmps(ntuple(n->d, N), Dmax, T)"
   ]
  },
  {
   "cell_type": "code",
   "execution_count": 14,
   "metadata": {},
   "outputs": [
    {
     "ename": "UndefVarError",
     "evalue": "UndefVarError: Nstates not defined",
     "output_type": "error",
     "traceback": [
      "UndefVarError: Nstates not defined",
      "",
      "Stacktrace:",
      " [1] top-level scope at In[14]:1"
     ]
    }
   ],
   "source": [
    "\n",
    "A = randmps(Lx, Nstates, BondDim);\n",
    "\n",
    "\n",
    "#M =  mpoqlm_fixed_with_interaction(N ; coupling=-0.0  );\n",
    "#E, A, F = dmrgconvergence!(A, M ; verbose = true);"
   ]
  },
  {
   "cell_type": "code",
   "execution_count": 16,
   "metadata": {},
   "outputs": [
    {
     "data": {
      "text/plain": [
       "(3,)"
      ]
     },
     "execution_count": 16,
     "metadata": {},
     "output_type": "execute_result"
    }
   ],
   "source": [
    "size(A)"
   ]
  },
  {
   "cell_type": "code",
   "execution_count": null,
   "metadata": {},
   "outputs": [],
   "source": []
  }
 ],
 "metadata": {
  "kernelspec": {
   "display_name": "Julia 1.0.4",
   "language": "julia",
   "name": "julia-1.0"
  },
  "language_info": {
   "file_extension": ".jl",
   "mimetype": "application/julia",
   "name": "julia",
   "version": "1.0.4"
  },
  "latex_envs": {
   "LaTeX_envs_menu_present": true,
   "autoclose": false,
   "autocomplete": false,
   "bibliofile": "biblio.bib",
   "cite_by": "apalike",
   "current_citInitial": 1,
   "eqLabelWithNumbers": true,
   "eqNumInitial": 1,
   "hotkeys": {
    "equation": "Ctrl-E",
    "itemize": "Ctrl-I"
   },
   "labels_anchors": false,
   "latex_user_defs": false,
   "report_style_numbering": false,
   "user_envs_cfg": false
  }
 },
 "nbformat": 4,
 "nbformat_minor": 2
}
